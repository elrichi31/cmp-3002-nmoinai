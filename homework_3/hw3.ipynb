{
 "cells": [
  {
   "cell_type": "code",
   "execution_count": 3,
   "id": "f8194cb7",
   "metadata": {},
   "outputs": [],
   "source": [
    "# Time wrapper\n",
    "from functools import wraps\n",
    "import time\n",
    "\n",
    "def timer(func):\n",
    "    @wraps(func)\n",
    "    def timer_wrapper(*args, **kwargs):\n",
    "        start = time.perf_counter() ## time.perf_counter() gives the time in seconds\n",
    "        result = func(*args, **kwargs)\n",
    "        end = time.perf_counter()\n",
    "        total_time = end - start\n",
    "        print(f'Function {func.__name__}{args} {kwargs}, {total_time:.5f} seconds') ## Print the function and the time that it takes\n",
    "        return total_time\n",
    "    return timer_wrapper"
   ]
  },
  {
   "cell_type": "markdown",
   "id": "012eda26",
   "metadata": {},
   "source": [
    "# Homework 3"
   ]
  },
  {
   "cell_type": "markdown",
   "id": "d1c71dde",
   "metadata": {},
   "source": [
    "### 1. Merge two sorted lists\n",
    "\n",
    "1. Assume you have two sorted linked lists. Use **recursion** to merge these lists and return a new sorted list. \n",
    "\n",
    "For example:\n",
    "\n",
    "- Input: \n",
    "\n",
    "> L1 = 1 -> 3 -> 5 -> 7 -> null\n",
    "\n",
    "> L2 = 2 -> 4 -> 6 -> null\n",
    "\n",
    "- Output:\n",
    "\n",
    "> L4 = 1 -> 2 -> 3-> 4 -> 5 -> 6 -> 7 -> null\n",
    "\n",
    "2. Calculate complexity"
   ]
  },
  {
   "cell_type": "code",
   "execution_count": 4,
   "id": "dc47f82b",
   "metadata": {},
   "outputs": [],
   "source": [
    "class Node:\n",
    "    \"\"\"\n",
    "    Implementation of a node\n",
    "    \"\"\"\n",
    "    def __init__(self, val=None):\n",
    "        self.val = val\n",
    "        self.next_node = None\n",
    "    \n",
    "    def set_next_node(self, next_node):\n",
    "        self.next_node = next_node"
   ]
  },
  {
   "cell_type": "code",
   "execution_count": 5,
   "id": "00cad300",
   "metadata": {},
   "outputs": [],
   "source": [
    "class Singly_linked_list:\n",
    "    \"\"\"\n",
    "    Implementation of a singly linked list\n",
    "    \"\"\"\n",
    "    def __init__(self, head_node=None):\n",
    "        self.head_node = head_node\n",
    "        \n",
    "    def list_traversed(self):\n",
    "        node = self.head_node\n",
    "        while node:\n",
    "            print(node.val)\n",
    "            node = node.next_node\n"
   ]
  },
  {
   "cell_type": "code",
   "execution_count": 6,
   "id": "3d6c0523",
   "metadata": {},
   "outputs": [],
   "source": [
    "def mergeLists(l1, l2):\n",
    "        pointer = None\n",
    "        if l1 is None:\n",
    "            return l2\n",
    "        \n",
    "        if  l2 is None:\n",
    "            return l1\n",
    "\n",
    "        if l1.val <= l2.val:\n",
    "            pointer = l1\n",
    "            pointer.next_node = mergeLists(l1.next_node, l2)\n",
    "        else:\n",
    "            pointer = l2\n",
    "            pointer.next_node = mergeLists(l1, l2.next_node)\n",
    "        return pointer"
   ]
  },
  {
   "cell_type": "code",
   "execution_count": 7,
   "id": "2af14cb1",
   "metadata": {},
   "outputs": [],
   "source": [
    "n1 = Node(1)\n",
    "n2 = Node(2)\n",
    "n3 = Node(5)\n",
    "n4 = Node(10)\n",
    "\n",
    "n1.set_next_node(n2)\n",
    "n2.set_next_node(n3)\n",
    "n3.set_next_node(n4)\n",
    "\n",
    "m1 = Node(4)\n",
    "m2 = Node(6)\n",
    "m3 = Node(7)\n",
    "m4 = Node(8)\n",
    "\n",
    "m1.set_next_node(m2)\n",
    "m2.set_next_node(m3)\n",
    "m3.set_next_node(m4)"
   ]
  },
  {
   "cell_type": "code",
   "execution_count": 8,
   "id": "f2a744c5",
   "metadata": {},
   "outputs": [
    {
     "name": "stdout",
     "output_type": "stream",
     "text": [
      "1\n",
      "2\n",
      "4\n",
      "5\n",
      "6\n",
      "7\n",
      "8\n",
      "10\n"
     ]
    }
   ],
   "source": [
    "list1 = Singly_linked_list(n1)\n",
    "list2 = Singly_linked_list(m1)\n",
    "\n",
    "res = Singly_linked_list()\n",
    "res.head_node = mergeLists(list1.head_node, list2.head_node)\n",
    "res.list_traversed()\n"
   ]
  },
  {
   "cell_type": "markdown",
   "id": "a90a4f0c",
   "metadata": {},
   "source": [
    "Time complexity: O(m+n)\n",
    "Auxiliary space: O(m+n)"
   ]
  },
  {
   "cell_type": "markdown",
   "id": "6ffd58f4",
   "metadata": {},
   "source": [
    "### 2. Implement quick sort\n",
    "\n",
    "1. Use the divide and conquer technique to implement the quick sort algorithm studied in class. \n",
    "2. Use a couple of parragraphs to explain the steps of divide and conquer:\n",
    "    - how/where do you divide?\n",
    "    - where/what do you conquer?\n",
    "    - how/what do you combine?\n",
    "3. Analyze complexity"
   ]
  },
  {
   "cell_type": "markdown",
   "id": "e43e0a4b",
   "metadata": {},
   "source": [
    "<img src=\"1.png\">"
   ]
  },
  {
   "cell_type": "markdown",
   "id": "98edf9ea",
   "metadata": {},
   "source": [
    "<img src=\"2.png\">"
   ]
  },
  {
   "cell_type": "markdown",
   "id": "a50dd7d4",
   "metadata": {},
   "source": [
    "Complexity\n",
    "Best case: O(nlog * n)\n",
    "Worst case: O(n^2)"
   ]
  },
  {
   "cell_type": "markdown",
   "id": "3503cba8",
   "metadata": {},
   "source": [
    "### 3. Compare quick sort and merge sort\n",
    "\n",
    "1. Generate 1000 random permutations of arrays of integers between 1 to 10000.\n",
    "2. Execute merge sort and quick sort for each of the permutations\n",
    "3. Calculate the execution time of these runs, and compare them using the statistics of the measured executed time.\n",
    "4. Explain the differences. Which algorithm is better? When would you use each?"
   ]
  },
  {
   "cell_type": "code",
   "execution_count": 9,
   "id": "f17f2138",
   "metadata": {},
   "outputs": [],
   "source": [
    "def mergeSort(arr):\n",
    "    if len(arr) > 1:\n",
    "        mid = len(arr)//2\n",
    "        L = arr[:mid]\n",
    "        R = arr[mid:]\n",
    "        mergeSort(L)\n",
    "        mergeSort(R)\n",
    "        i = j = k = 0\n",
    " \n",
    "        # Copy data to temp arrays L[] and R[]\n",
    "        while i < len(L) and j < len(R):\n",
    "            if L[i] <= R[j]:\n",
    "                arr[k] = L[i]\n",
    "                i += 1\n",
    "            else:\n",
    "                arr[k] = R[j]\n",
    "                j += 1\n",
    "            k += 1\n",
    " \n",
    "        # Checking if any element was left\n",
    "        while i < len(L):\n",
    "            arr[k] = L[i]\n",
    "            i += 1\n",
    "            k += 1\n",
    " \n",
    "        while j < len(R):\n",
    "            arr[k] = R[j]\n",
    "            j += 1\n",
    "            k += 1"
   ]
  },
  {
   "cell_type": "code",
   "execution_count": 10,
   "id": "bf4f5908",
   "metadata": {},
   "outputs": [],
   "source": [
    "def partition(array, low, high):\n",
    "    pivot = array[high]\n",
    "\n",
    "    i = low - 1\n",
    "\n",
    "    for j in range(low, high):\n",
    "        if array[j] <= pivot:\n",
    "            i = i + 1\n",
    "            (array[i], array[j]) = (array[j], array[i])\n",
    " \n",
    "    (array[i + 1], array[high]) = (array[high], array[i + 1])\n",
    "    return i + 1\n",
    " \n",
    "def quickSort(array, low, high):\n",
    "    if low < high:\n",
    "        pi = partition(array, low, high)\n",
    "        quickSort(array, low, pi - 1)\n",
    "        quickSort(array, pi + 1, high)"
   ]
  },
  {
   "cell_type": "code",
   "execution_count": 11,
   "id": "17b661d6",
   "metadata": {},
   "outputs": [
    {
     "name": "stdout",
     "output_type": "stream",
     "text": [
      "[5, 6, 7, 11, 12, 13]\n"
     ]
    }
   ],
   "source": [
    "arr = [12, 11, 13, 5, 6, 7]\n",
    "mergeSort(arr)\n",
    "print(arr)"
   ]
  },
  {
   "cell_type": "code",
   "execution_count": 12,
   "id": "cd9d69cc",
   "metadata": {},
   "outputs": [
    {
     "name": "stdout",
     "output_type": "stream",
     "text": [
      "[-2, 1, 1, 4, 7, 9, 10]\n"
     ]
    }
   ],
   "source": [
    "data = [1, 7, 4, 1, 10, 9, -2]\n",
    "size = len(data)\n",
    "quickSort(data, 0, size - 1)\n",
    "print(data)"
   ]
  },
  {
   "cell_type": "code",
   "execution_count": 13,
   "id": "37a60c2c",
   "metadata": {},
   "outputs": [
    {
     "name": "stdout",
     "output_type": "stream",
     "text": [
      "Function testMergeSort() {}, 0.39931 seconds\n",
      "0.3993102999999998\n",
      "Function testQuickSort() {}, 0.28609 seconds\n",
      "0.28608679999999964\n",
      "Function testMergeSort() {}, 0.41901 seconds\n",
      "0.41900530000000025\n",
      "Function testQuickSort() {}, 0.29270 seconds\n",
      "0.29269800000000146\n",
      "Function testMergeSort() {}, 0.40422 seconds\n",
      "0.4042192999999976\n",
      "Function testQuickSort() {}, 0.28439 seconds\n",
      "0.28438560000000024\n",
      "Function testMergeSort() {}, 0.40713 seconds\n",
      "0.4071259000000005\n",
      "Function testQuickSort() {}, 0.30441 seconds\n",
      "0.30441379999999896\n",
      "Function testMergeSort() {}, 0.40130 seconds\n",
      "0.40129690000000195\n",
      "Function testQuickSort() {}, 0.29200 seconds\n",
      "0.2919957000000011\n"
     ]
    }
   ],
   "source": [
    "import random\n",
    "\n",
    "def generateNums():\n",
    "    arr = []\n",
    "    for i in range(0, 1000):\n",
    "        arr.append(random.randint(1,10000))\n",
    "    return arr\n",
    "\n",
    "def generateArr():\n",
    "    arrTotal = []\n",
    "    for i in range(0, 100):\n",
    "        arrTotal.append(generateNums())\n",
    "    return arrTotal\n",
    "\n",
    "@timer\n",
    "def testMergeSort():\n",
    "    arr = generateArr()\n",
    "    for i in arr:\n",
    "        mergeSort(i)\n",
    "\n",
    "@timer\n",
    "def testQuickSort():\n",
    "    arr1 = generateArr()\n",
    "    for i in arr1:\n",
    "        quickSort(i, 0, len(i)-1)\n",
    "\n",
    "def testAlg():\n",
    "    for i in range(0,5):\n",
    "        print(testMergeSort())\n",
    "        print(testQuickSort())\n",
    "\n",
    "\n",
    "testAlg()"
   ]
  },
  {
   "cell_type": "markdown",
   "id": "0ea5cbc5",
   "metadata": {},
   "source": [
    "In the case of large data sets merge sort is the best option, and in case of smaller date sets quick sort is the best algorithm that we can chose"
   ]
  },
  {
   "cell_type": "markdown",
   "id": "e43b0016",
   "metadata": {},
   "source": [
    "### 4. Implement factorials with recursion\n",
    "\n",
    "Recall that a factorial number is defined as:\n",
    "\n",
    "$k! = k \\times (k-1) \\times (k-2) \\times ... \\times 2 \\times 1$\n",
    "\n",
    "For example: $3! = 3 \\times 2 \\times 1 = 6$\n",
    "\n",
    "1. Use recursion to implement the factorial\n",
    "2. Run your code for numbers between 1 and 10000\n",
    "3. Calculate the execution time and plot it. \n",
    "4. What's the complexity?\n",
    "5. Implement memoization to improve the performance of your code\n",
    "6. Measure the runtime when you calculate the factorial for numbers between 1 and 10000.\n",
    "7. What's the complexity of your code using memoization?\n",
    "8. How does the first implementation and the one with memoization compare?\n"
   ]
  },
  {
   "cell_type": "code",
   "execution_count": 14,
   "id": "75bf7609",
   "metadata": {},
   "outputs": [],
   "source": [
    "# Time wrapper\n",
    "from functools import wraps\n",
    "import time\n",
    "\n",
    "def timer(func):\n",
    "    @wraps(func)\n",
    "    def timer_wrapper(*args, **kwargs):\n",
    "        start = time.perf_counter() ## time.perf_counter() gives the time in seconds\n",
    "        result = func(*args, **kwargs)\n",
    "        end = time.perf_counter()\n",
    "        total_time = end - start\n",
    "        #print(f'Function {func.__name__}{args} {kwargs}, {total_time:.5f} seconds') ## Print the function and the time that it takes\n",
    "        return total_time\n",
    "    return timer_wrapper"
   ]
  },
  {
   "cell_type": "code",
   "execution_count": 15,
   "id": "d970e456",
   "metadata": {},
   "outputs": [
    {
     "name": "stdout",
     "output_type": "stream",
     "text": [
      "0.004985100000002518\n"
     ]
    }
   ],
   "source": [
    "@timer\n",
    "def factorial(n):\n",
    "    if n == 0 or n == 1:\n",
    "        return 1\n",
    "    return (n * factorial(n-1))\n",
    "\n",
    "print(factorial(950))"
   ]
  },
  {
   "cell_type": "code",
   "execution_count": 16,
   "id": "69386fb6",
   "metadata": {},
   "outputs": [
    {
     "data": {
      "image/png": "[encoded data removed]",
      "text/plain": [
       "<Figure size 640x480 with 1 Axes>"
      ]
     },
     "metadata": {},
     "output_type": "display_data"
    }
   ],
   "source": [
    "import matplotlib.pyplot as plt\n",
    "\n",
    "j = list(range(1, 950+1))\n",
    "arrTime = []\n",
    "def testFactorial():\n",
    "    for i in range(1, 950+1):\n",
    "        arrTime.append(factorial(i))\n",
    "\n",
    "testFactorial()\n",
    "#print(j, arrTime)\n",
    "plt.plot(j, arrTime)\n",
    "plt.xlabel(\"N1\")\n",
    "plt.ylabel(\"Tiempo\")\n",
    "plt.grid()\n",
    "plt.show()"
   ]
  },
  {
   "cell_type": "markdown",
   "id": "72725d5e",
   "metadata": {},
   "source": [
    "Complexity: O(n) and space complexity is O(N), thats why at the moment that we try to execute the factorial function with high numbers the RAM of the computer isn't enough"
   ]
  },
  {
   "cell_type": "code",
   "execution_count": 17,
   "id": "6e7742ab",
   "metadata": {},
   "outputs": [
    {
     "data": {
      "image/png": "[encoded data removed]",
      "text/plain": [
       "<Figure size 640x480 with 1 Axes>"
      ]
     },
     "metadata": {},
     "output_type": "display_data"
    }
   ],
   "source": [
    "arr = {}\n",
    "@timer\n",
    "def factorialMem(n):\n",
    "    if n < 2: return 1\n",
    "    if n not in arr:\n",
    "        arr[n] = n * factorialMem(n-1)\n",
    "    return arr[n]\n",
    "\n",
    "num = list(range(1, 10000+1))\n",
    "arrTime2 = []\n",
    "\n",
    "def testFactorialMem():\n",
    "    for i in range(1, 10000+1):\n",
    "        arrTime2.append(factorialMem(i))\n",
    "\n",
    "testFactorialMem()\n",
    "#print(j, arrTime)\n",
    "plt.plot(num, arrTime2)\n",
    "plt.xlabel(\"n2\")\n",
    "plt.ylabel(\"tiempo\")\n",
    "plt.grid()\n",
    "plt.show()"
   ]
  },
  {
   "cell_type": "markdown",
   "id": "766eb1e2",
   "metadata": {},
   "source": [
    "Complexity: Memory O(1) Time O(n)"
   ]
  }
 ],
 "metadata": {
  "kernelspec": {
   "display_name": "Python 3.9.13 64-bit (microsoft store)",
   "language": "python",
   "name": "python3"
  },
  "language_info": {
   "codemirror_mode": {
    "name": "ipython",
    "version": 3
   },
   "file_extension": ".py",
   "mimetype": "text/x-python",
   "name": "python",
   "nbconvert_exporter": "python",
   "pygments_lexer": "ipython3",
   "version": "3.9.13"
  },
  "vscode": {
   "interpreter": {
    "hash": "837127ec35c91e86170fdd1e56dc7f7c1e274626e9c541191aa390ab4e003e34"
   }
  }
 },
 "nbformat": 4,
 "nbformat_minor": 5
}
