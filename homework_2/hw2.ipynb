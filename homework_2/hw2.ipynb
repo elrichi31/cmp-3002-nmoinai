{
 "cells": [
  {
   "cell_type": "code",
   "execution_count": 174,
   "id": "68f204c9",
   "metadata": {},
   "outputs": [],
   "source": [
    "# Time wrapper\n",
    "from functools import wraps\n",
    "import time\n",
    "\n",
    "def timer(func):\n",
    "    @wraps(func)\n",
    "    def timer_wrapper(*args, **kwargs):\n",
    "        start = time.perf_counter() ## time.perf_counter() gives the time in seconds\n",
    "        result = func(*args, **kwargs)\n",
    "        end = time.perf_counter()\n",
    "        total_time = end - start\n",
    "        print(f'Function {func.__name__}{args} {kwargs}, {total_time:.5f} seconds') ## Print the function and the time that it takes\n",
    "        return total_time\n",
    "    return timer_wrapper"
   ]
  },
  {
   "cell_type": "markdown",
   "id": "012eda26",
   "metadata": {},
   "source": [
    "# Homework 2"
   ]
  },
  {
   "cell_type": "markdown",
   "id": "6d677bee",
   "metadata": {},
   "source": [
    "### 1. Implement the class `Stacks` and all its methods using singly linked lists. Analyze the runtime and memory complexity, and compare with what we studied in class"
   ]
  },
  {
   "cell_type": "code",
   "execution_count": 175,
   "id": "169b820d",
   "metadata": {},
   "outputs": [],
   "source": [
    "import ctypes\n",
    "class Stack(object):\n",
    "    \"\"\"\n",
    "    Implementation of the stack data structure\n",
    "    \"\"\"\n",
    "\n",
    "    def __init__(self, n):\n",
    "        self.l = 0\n",
    "        self.n = n\n",
    "        self.stack = self._create_stack(self.n)        \n",
    "    \n",
    "    def _create_stack(self, n):\n",
    "        \"\"\"\n",
    "        Creates a new stack of capacity n\n",
    "        \"\"\"\n",
    "        return (n * ctypes.py_object)()\n",
    "\n",
    "    def push(self, item):\n",
    "        \"\"\"\n",
    "        Add new item to the stack\n",
    "        \"\"\"\n",
    "        if self.l == self.n:\n",
    "            raise ValueError(\"no more capacity\")\n",
    "        self.stack[self.l] = item\n",
    "        self.l += 1\n",
    "\n",
    "    def pop(self):\n",
    "        \"\"\"\n",
    "        Remove an element from the stack\n",
    "        \"\"\"\n",
    "        # self.l = 0\n",
    "        # 0 is equivalent to False\n",
    "        # any number != 0 is True\n",
    "        if not self.l:\n",
    "            raise('stack is empty')\n",
    "        c = self.stack[self.l-1]\n",
    "        self.stack[self.l] = ctypes.py_object\n",
    "        self.l -= 1\n",
    "        return c\n"
   ]
  },
  {
   "cell_type": "code",
   "execution_count": 176,
   "id": "432ea312",
   "metadata": {},
   "outputs": [],
   "source": [
    "## IMPLEMENTATION CREATED BY NICOLAS\n",
    "import ctypes\n",
    "class Node:\n",
    "    \"\"\"\n",
    "    Implementation of a node\n",
    "    \"\"\"\n",
    "    def __init__(self, val=None):\n",
    "        self.val = val\n",
    "        self.bottom_node = None\n",
    "    \n",
    "    def set_bottom_node(self, bottom_node):\n",
    "        self.bottom_node = bottom_node\n",
    "        \n",
    "class Stacks(object):\n",
    "    def __init__(self, n, head_node=None):\n",
    "        self.head_node = head_node\n",
    "        self.l = 0\n",
    "        self.n = n\n",
    "        self.stack = self._create_stack(self.n)\n",
    "    \n",
    "    def _create_stack(self, n):\n",
    "        return(n* ctypes.py_object)()\n",
    "\n",
    "    def show_stack(self):\n",
    "        c = 0\n",
    "        while c < self.l:\n",
    "            if self.stack[c].val is not None:\n",
    "                print(self.stack[c].val, \"<--\", self.stack[c].bottom_node)\n",
    "            c += 1\n",
    "            \n",
    "\n",
    "    def list_traversed(self):\n",
    "        node = self.head_node\n",
    "        while node:\n",
    "            print(node.val, \"<--\", node.bottom_node)\n",
    "            node = node.bottom_node\n",
    "\n",
    "    def push(self, node):\n",
    "        \"\"\"\n",
    "        Add new item to the stack\n",
    "        \"\"\"\n",
    "        if self.l == self.n:\n",
    "            raise ValueError(\"no more capacity\")\n",
    "\n",
    "        if self.l == 0:\n",
    "            self.stack[0] = node\n",
    "            self.head_node = self.stack[0]\n",
    "            node.bottom_node = None\n",
    "            self.l += 1\n",
    "            \n",
    "        else:\n",
    "            self.stack[self.l] = node\n",
    "            self.stack[self.l].bottom_node = self.stack[self.l - 1].val\n",
    "            self.l += 1\n",
    "\n",
    "    def pop(self):\n",
    "        \"\"\"\n",
    "        Remove an element from the stack\n",
    "        \"\"\"\n",
    "        # self.l = 0\n",
    "        # 0 is equivalent to False\n",
    "        # any number != 0 is True\n",
    "        if not self.l:\n",
    "            raise('stack is empty')\n",
    "        c = self.stack[self.l-1]\n",
    "        self.stack[self.l] = ctypes.py_object\n",
    "        self.l -= 1\n",
    "        return c"
   ]
  },
  {
   "cell_type": "code",
   "execution_count": 177,
   "id": "f5ec632b",
   "metadata": {},
   "outputs": [
    {
     "name": "stdout",
     "output_type": "stream",
     "text": [
      "Function push_stack() {}, 0.59684 seconds\n",
      "Function pop_stack() {}, 0.66477 seconds\n"
     ]
    },
    {
     "data": {
      "text/plain": [
       "0.6647675999993226"
      ]
     },
     "execution_count": 177,
     "metadata": {},
     "output_type": "execute_result"
    }
   ],
   "source": [
    "# RUNTIME CLASS\n",
    "S = Stack(10**7)\n",
    "\n",
    "@timer\n",
    "def push_stack():\n",
    "    for i in range(0, 10**6):\n",
    "        S.push(i)\n",
    "\n",
    "@timer\n",
    "def pop_stack():\n",
    "    for i in range(0, 10**6):\n",
    "        S.pop()\n",
    "\n",
    "push_stack()\n",
    "pop_stack()"
   ]
  },
  {
   "cell_type": "code",
   "execution_count": 178,
   "id": "a59090e0",
   "metadata": {},
   "outputs": [
    {
     "name": "stdout",
     "output_type": "stream",
     "text": [
      "Function push_stack() {}, 1.25203 seconds\n",
      "Function pop_stack() {}, 0.74525 seconds\n"
     ]
    },
    {
     "data": {
      "text/plain": [
       "0.7452464999987569"
      ]
     },
     "execution_count": 178,
     "metadata": {},
     "output_type": "execute_result"
    }
   ],
   "source": [
    "#RUNTIME NICOLAS\n",
    "S = Stacks(10**7)\n",
    "\n",
    "@timer\n",
    "def push_stack():\n",
    "    for i in range(0, 10**6):\n",
    "        S.push(Node(i))\n",
    "\n",
    "@timer\n",
    "def pop_stack():\n",
    "    for i in range(0, 10**6):\n",
    "        S.pop()\n",
    "\n",
    "push_stack()\n",
    "pop_stack()"
   ]
  },
  {
   "cell_type": "code",
   "execution_count": 179,
   "id": "6924a6c7",
   "metadata": {},
   "outputs": [
    {
     "name": "stdout",
     "output_type": "stream",
     "text": [
      "Jan <-- None\n",
      "Feb <-- Jan\n",
      "March <-- Feb\n",
      "April <-- March\n",
      "-----------\n",
      "Jan <-- None\n",
      "Feb <-- Jan\n",
      "March <-- Feb\n"
     ]
    }
   ],
   "source": [
    "m1 = Node(\"Jan\")\n",
    "m2 = Node(\"Feb\")\n",
    "m3 = Node(\"March\")\n",
    "m4 = Node(\"April\")\n",
    "\n",
    "S = Stacks(10)\n",
    "S.push(m1)\n",
    "S.push(m2)\n",
    "S.push(m3)\n",
    "S.push(m4)\n",
    "S.show_stack()\n",
    "print(\"-----------\")\n",
    "S.pop()\n",
    "S.show_stack()\n"
   ]
  },
  {
   "cell_type": "markdown",
   "id": "bc2655ce",
   "metadata": {},
   "source": [
    "### 2. Write a method part of the linked list class that will reverse the linked list. Your implementation should visit each node in the list only one time, and should use $O(1)$ of extra memory.\n",
    "\n",
    "\n",
    "> For example, if the list is:\n",
    "\n",
    "> A -> B -> C -> D -> null\n",
    "\n",
    "> The method must return:\n",
    "\n",
    "> D -> C -> B -> A -> null\n",
    "\n"
   ]
  },
  {
   "cell_type": "code",
   "execution_count": 180,
   "id": "3ea06a4d",
   "metadata": {},
   "outputs": [],
   "source": [
    "class Node:\n",
    "    \"\"\"\n",
    "    Implementation of a node\n",
    "    \"\"\"\n",
    "    def __init__(self, val=None):\n",
    "        self.val = val\n",
    "        self.next_node = None\n",
    "    \n",
    "    def set_next_node(self, next_node):\n",
    "        self.next_node = next_node\n",
    "        \n",
    "class Singly_linked_list:\n",
    "    \"\"\"\n",
    "    Implementation of a singly linked list\n",
    "    \"\"\"\n",
    "    def __init__(self, head_node=None):\n",
    "        self.head_node = head_node\n",
    "        \n",
    "    def list_traversed(self):\n",
    "        node = self.head_node\n",
    "        while node:\n",
    "            print(node.val)\n",
    "            node = node.next_node\n",
    "            \n",
    "    def reverse_list(self):\n",
    "        pointer = None\n",
    "        prev = None\n",
    "        node = self.head_node\n",
    "\n",
    "        while node:\n",
    "            prev = node\n",
    "            node = node.next_node\n",
    "            prev.next_node = pointer\n",
    "            pointer = prev\n",
    "        self.head_node = prev\n",
    "        \n",
    "\n",
    "            \n"
   ]
  },
  {
   "cell_type": "code",
   "execution_count": 181,
   "id": "cec25a58",
   "metadata": {},
   "outputs": [
    {
     "name": "stdout",
     "output_type": "stream",
     "text": [
      "Jan\n",
      "Feb\n",
      "March\n",
      "April\n",
      "--------------\n",
      "April\n",
      "March\n",
      "Feb\n",
      "Jan\n"
     ]
    }
   ],
   "source": [
    "m1 = Node(\"Jan\")\n",
    "m2 = Node(\"Feb\")\n",
    "m3 = Node(\"March\")\n",
    "m4 = Node(\"April\")\n",
    "\n",
    "m1.set_next_node(m2)\n",
    "m2.set_next_node(m3)\n",
    "m3.set_next_node(m4)\n",
    "list1 = Singly_linked_list(m1)\n",
    "\n",
    "list1.list_traversed()\n",
    "print(\"--------------\")\n",
    "list1.reverse_list()\n",
    "list1.list_traversed()"
   ]
  },
  {
   "cell_type": "markdown",
   "id": "c9ebe95e",
   "metadata": {},
   "source": [
    "### 3. Implement the class Queue using stacks. \n",
    "\n",
    "> a. Analyze the runtime and memory complexity, and compare with what we implemented in class.\n",
    "\n",
    "> b. Implement a few test cases that would allow you to measure the difference in runtime of the `dequeue` method. (Hint: what is the worst case, so that dequeue of the stack implementation is greater than the implementation we did in class?)\n"
   ]
  },
  {
   "cell_type": "code",
   "execution_count": 182,
   "id": "4ba02002",
   "metadata": {},
   "outputs": [],
   "source": [
    "import ctypes\n",
    "class Queue(object):\n",
    "    \"\"\"\n",
    "    Implementation of the queue data structure\n",
    "    \"\"\"\n",
    "\n",
    "    def __init__(self, n):\n",
    "        self.l = 0\n",
    "        self.n = n\n",
    "        self.queue = self._create_queue(self.n)        \n",
    "    \n",
    "    def _create_queue(self, n):\n",
    "        \"\"\"\n",
    "        Creates a new stack of capacity n\n",
    "        \"\"\"\n",
    "        return (n * ctypes.py_object)()\n",
    "\n",
    "    def enqueue(self, item):\n",
    "        \"\"\"\n",
    "        Add new item to the queue\n",
    "        \"\"\"\n",
    "        if self.l == self.n:\n",
    "            raise ValueError(\"no more capacity\")\n",
    "        self.queue[self.l] = item\n",
    "        self.l += 1\n",
    "    \n",
    "    def dequeue(self):\n",
    "        \"\"\"\n",
    "        Remove an element from the queue\n",
    "        \"\"\"\n",
    "        c = self.queue[0]\n",
    "        for i in range(1,self.l):\n",
    "            self.queue[i-1] = self.queue[i]\n",
    "        self.queue[self.l - 1] = ctypes.py_object\n",
    "        self.l -= 1\n",
    "        return c\n",
    "    "
   ]
  },
  {
   "cell_type": "code",
   "execution_count": 183,
   "id": "ac5a60c1",
   "metadata": {},
   "outputs": [],
   "source": [
    "class Stack(object):\n",
    "    \"\"\"\n",
    "    Implementation of the stack data structure\n",
    "    \"\"\"\n",
    "\n",
    "    def __init__(self, n):\n",
    "        self.l = 0\n",
    "        self.n = n\n",
    "        self.stack = self._create_stack(self.n)        \n",
    "    \n",
    "    def _create_stack(self, n):\n",
    "        \"\"\"\n",
    "        Creates a new stack of capacity n\n",
    "        \"\"\"\n",
    "        return (n * ctypes.py_object)()\n",
    "\n",
    "    def push(self, item):\n",
    "        \"\"\"\n",
    "        Add new item to the stack\n",
    "        \"\"\"\n",
    "        if self.l == self.n:\n",
    "            raise ValueError(\"no more capacity\")\n",
    "        self.stack[self.l] = item\n",
    "        self.l += 1\n",
    "\n",
    "    def pop(self):\n",
    "        \"\"\"\n",
    "        Remove an element from the stack\n",
    "        \"\"\"\n",
    "        # self.l = 0\n",
    "        # 0 is equivalent to False\n",
    "        # any number != 0 is True\n",
    "        if not self.l:\n",
    "            raise('stack is empty')\n",
    "        c = self.stack[self.l-1]\n",
    "        self.stack[self.l] = ctypes.py_object\n",
    "        self.l -= 1\n",
    "        return c\n",
    "\n",
    "class QueueStack(object):\n",
    "    \"\"\"\n",
    "    Implementation of the queue data structure\n",
    "    \"\"\"\n",
    "\n",
    "    def __init__(self, n):\n",
    "        self.l1 = 0\n",
    "        self.l2 = 0\n",
    "        self.n = n\n",
    "        self.stack1 = Stack(n)\n",
    "        self.stack2 = Stack(n)\n",
    "              \n",
    "    def enqueue(self, item):\n",
    "        \"\"\"\n",
    "        Add new item to the queue\n",
    "        \"\"\"\n",
    "        if self.l1 == self.n:\n",
    "            raise ValueError(\"no more capacity\")\n",
    "        self.stack1.push(item)\n",
    "        self.l1 += 1\n",
    "    \n",
    "    def transfer_stack(self, stack):\n",
    "        inv = Stack(self.n)\n",
    "        for i in range(self.l, 0, -1):\n",
    "            inv.push(stack.stack[i-1])\n",
    "        return inv \n",
    "\n",
    "    def dequeue(self):\n",
    "        \"\"\"\n",
    "        Remove an element from the queue\n",
    "        \"\"\"\n",
    "        if self.l2 == 0 and self.l1 > 0:\n",
    "            while self.l1 > 0:\n",
    "                temp = self.stack1.pop()\n",
    "                self.l1 -= 1\n",
    "                self.stack2.push(temp)\n",
    "                self.l2 += 1\n",
    "            c = self.stack2.pop()\n",
    "            self.l2 -= 1\n",
    "            return c\n",
    "        else:\n",
    "            c = self.stack2.pop()\n",
    "            self.l2 -= 1\n",
    "            return c"
   ]
  },
  {
   "cell_type": "code",
   "execution_count": 184,
   "id": "79fb9036",
   "metadata": {},
   "outputs": [
    {
     "data": {
      "text/plain": [
       "3"
      ]
     },
     "execution_count": 184,
     "metadata": {},
     "output_type": "execute_result"
    }
   ],
   "source": [
    "q2 = QueueStack(10)\n",
    "q2.enqueue(1)\n",
    "q2.enqueue(2)\n",
    "q2.enqueue(3)\n",
    "q2.dequeue()\n",
    "q2.dequeue()\n",
    "q2.dequeue()\n"
   ]
  },
  {
   "cell_type": "code",
   "execution_count": 185,
   "id": "9d69b017",
   "metadata": {},
   "outputs": [
    {
     "name": "stdout",
     "output_type": "stream",
     "text": [
      "Function enqueue_queue() {}, 0.00482 seconds\n",
      "Function dequeue_queue() {}, 12.52869 seconds\n"
     ]
    },
    {
     "data": {
      "text/plain": [
       "12.528686400000879"
      ]
     },
     "execution_count": 185,
     "metadata": {},
     "output_type": "execute_result"
    }
   ],
   "source": [
    "q = Queue(10**5)\n",
    "\n",
    "@timer\n",
    "def enqueue_queue():\n",
    "    for i in range(0, 10**4):\n",
    "        q.enqueue(i)\n",
    "\n",
    "@timer\n",
    "def dequeue_queue():\n",
    "    for i in range(0, 10**4):\n",
    "        q.dequeue()\n",
    "\n",
    "enqueue_queue()\n",
    "dequeue_queue()"
   ]
  },
  {
   "cell_type": "code",
   "execution_count": 186,
   "id": "e78fe478",
   "metadata": {},
   "outputs": [
    {
     "name": "stdout",
     "output_type": "stream",
     "text": [
      "Function enqueue_queueStack() {}, 0.00668 seconds\n",
      "Function dequeue_queueStack() {}, 0.01966 seconds\n"
     ]
    },
    {
     "data": {
      "text/plain": [
       "0.01965800000107265"
      ]
     },
     "execution_count": 186,
     "metadata": {},
     "output_type": "execute_result"
    }
   ],
   "source": [
    "q1 = QueueStack(10**5)\n",
    "\n",
    "@timer\n",
    "def enqueue_queueStack():\n",
    "    for i in range(0, 10**4):\n",
    "        q1.enqueue(i)\n",
    "\n",
    "@timer\n",
    "def dequeue_queueStack():\n",
    "    for i in range(0, 10**4):\n",
    "        q1.dequeue()\n",
    "\n",
    "enqueue_queueStack()\n",
    "dequeue_queueStack()"
   ]
  },
  {
   "cell_type": "markdown",
   "id": "869a19be",
   "metadata": {},
   "source": [
    "Implemented worst case"
   ]
  },
  {
   "cell_type": "markdown",
   "id": "af4d174f",
   "metadata": {},
   "source": [
    "### 4. Complete the PriorityQueue class, so that when we call `dequeue`, the element with the highest priority will be returned. Analyze the complexity of runtime and memory of the `enqueue` and `dequeue` methods."
   ]
  },
  {
   "cell_type": "markdown",
   "id": "c200e2fd",
   "metadata": {},
   "source": [
    "A = [4, 2, 7, 5, 9]  # O(n^2)\n",
    "\n",
    "B = [1, 3, 4, 5]\n",
    "insert 2 in B, such that B is still sorted \n",
    "Not O(n^2)"
   ]
  },
  {
   "cell_type": "code",
   "execution_count": 187,
   "id": "976f9212",
   "metadata": {},
   "outputs": [],
   "source": [
    "class PriorityQueue(object):\n",
    "    \"\"\"\n",
    "    Implementation of the queue data structure\n",
    "    \"\"\"\n",
    "\n",
    "    def __init__(self, n):\n",
    "        self.l = 0\n",
    "        self.n = n\n",
    "        self.queue = self._create_queue(self.n)        \n",
    "    \n",
    "    def _create_queue(self, n):\n",
    "        \"\"\"\n",
    "        Creates a new stack of capacity n\n",
    "        \"\"\"\n",
    "        return (n * ctypes.py_object)()\n",
    "    \n",
    "    def enqueue(self, item):\n",
    "        \"\"\"\n",
    "        Add new item to the queue\n",
    "        \"\"\"\n",
    "        if self.l == self.n:\n",
    "            raise ValueError(\"no more capacity\")\n",
    "        self.queue[self.l] = item\n",
    "        self.l += 1\n",
    "    \n",
    "    def sorted_enqueue(self, item):\n",
    "        if self.l == self.n:\n",
    "            raise ValueError(\"no more capacity\")\n",
    "        if self.l < 1:\n",
    "            self.queue[self.l] = item\n",
    "            self.l += 1\n",
    "        else:\n",
    "            i = self.l - 1\n",
    "            while i >= 0 and self.queue[i][0] < item[0]:\n",
    "                self.queue[i+1] = self.queue[i]\n",
    "                i -= 1\n",
    "            self.queue[i + 1] = item\n",
    "            self.l += 1\n",
    "        #print(self.queue[0:self.l])\n",
    "        #print(q.queue[0:q.l])\n",
    "\n",
    "    def dequeue(self):\n",
    "        c = self.queue[self.l-1]\n",
    "        self.queue[self.l] = ctypes.py_object\n",
    "        self.l -= 1\n",
    "        return c\n",
    "\n",
    "        "
   ]
  },
  {
   "cell_type": "code",
   "execution_count": 188,
   "id": "6a341006",
   "metadata": {},
   "outputs": [
    {
     "data": {
      "text/plain": [
       "[(9, 43), (2, 4), (1, 2), (1, 21)]"
      ]
     },
     "execution_count": 188,
     "metadata": {},
     "output_type": "execute_result"
    }
   ],
   "source": [
    "q = PriorityQueue(10)\n",
    "q.sorted_enqueue((1,2))\n",
    "q.sorted_enqueue((2,4))\n",
    "q.sorted_enqueue((0,1))\n",
    "q.sorted_enqueue((9,43))\n",
    "q.sorted_enqueue((1,21))\n",
    "q.dequeue()\n",
    "q.queue[0:q.l]\n"
   ]
  },
  {
   "cell_type": "code",
   "execution_count": 189,
   "id": "833f3f82",
   "metadata": {},
   "outputs": [
    {
     "name": "stdout",
     "output_type": "stream",
     "text": [
      "Function enqueue_p_queue() {}, 18.39105 seconds\n",
      "Function dequeue_p_queue() {}, 0.00557 seconds\n"
     ]
    },
    {
     "data": {
      "text/plain": [
       "0.005565899999055546"
      ]
     },
     "execution_count": 189,
     "metadata": {},
     "output_type": "execute_result"
    }
   ],
   "source": [
    "pq = PriorityQueue(10**5)\n",
    "\n",
    "@timer\n",
    "def enqueue_p_queue():\n",
    "    for i in range(0, 10**4):\n",
    "        pq.sorted_enqueue((i,9))\n",
    "\n",
    "@timer\n",
    "def dequeue_p_queue():\n",
    "    for i in range(0, 10**4):\n",
    "        pq.dequeue()\n",
    "\n",
    "enqueue_p_queue()\n",
    "dequeue_p_queue()"
   ]
  },
  {
   "cell_type": "markdown",
   "id": "9bb086f0",
   "metadata": {},
   "source": [
    "Sorted enqueue = O(n)\n",
    "dequeue = O(1)"
   ]
  },
  {
   "cell_type": "markdown",
   "id": "aff830fc",
   "metadata": {},
   "source": [
    "### 5. A given linked-list (singly or doubly) represents an integer number. For example, 345 is represented by the singly-linked list 3 -> 4 ->5. Write a Python program that does the following:\n",
    "\n",
    "1. Receives three integers A, B and C as inputs. Assume that the three number have the same number of digits.\n",
    "\n",
    "2. Transform the numbers to their corresponding linked lists\n",
    "\n",
    "3. Implement the sum of the three numbers. The result A + B + C must be stored in a linked list. \n",
    "\n",
    "4. Print the result by traversing the list. \n",
    "\n",
    "5. Run your program for numbers with 1 to 100 digits, and capture the runtime. Use these number to estimate the complexity of the runtime.\n",
    "    - Hint: write a small function that uses `randint()` to generate a number of a given number of digits \n",
    "6. Analitically estimate the runtime complexity and compare with the one obtained in (5)."
   ]
  },
  {
   "cell_type": "code",
   "execution_count": 190,
   "id": "22409ff7",
   "metadata": {},
   "outputs": [],
   "source": [
    "class LinkedSum():\n",
    "    def __init__(self):\n",
    "        self.n = 1\n",
    "\n",
    "    def conv_arr(self, num):\n",
    "        arr = list(str(num))\n",
    "        arr_int = [int(x) for x in arr]\n",
    "        return arr_int\n",
    "\n",
    "    def transform(self, arr):\n",
    "        arrA = [Node(x) for x in self.conv_arr(arr[0])]\n",
    "        arrB = [Node(x) for x in self.conv_arr(arr[1])]\n",
    "        arrC = [Node(x) for x in self.conv_arr(arr[2])]\n",
    "\n",
    "        for x in range(1, len(arrA)):\n",
    "            arrA[x-1].set_next_node(arrA[x])\n",
    "            arrB[x-1].set_next_node(arrB[x])\n",
    "            arrC[x-1].set_next_node(arrC[x])\n",
    "\n",
    "        listA = Singly_linked_list(arrA[0])\n",
    "        listB = Singly_linked_list(arrB[0])\n",
    "        listC = Singly_linked_list(arrC[0])\n",
    "        return listA, listB, listC\n",
    "        \n",
    "    ## Suma\n",
    "    def sum_elements(self, num_arr):\n",
    "\n",
    "        sum_numbers = self.transform(num_arr)\n",
    "        size = len(str(num_arr[0]))\n",
    "\n",
    "        sum_numbers[0].reverse_list()\n",
    "        sum_numbers[1].reverse_list()\n",
    "        sum_numbers[2].reverse_list()\n",
    "\n",
    "        nodeA = sum_numbers[0].head_node\n",
    "        nodeB = sum_numbers[1].head_node\n",
    "        nodeC = sum_numbers[2].head_node\n",
    "\n",
    "        count = 0\n",
    "        final_result = []\n",
    "        counter = 1\n",
    "        while nodeA:\n",
    "            result_partial = nodeA.val + nodeB.val + nodeC.val + count\n",
    "            if(counter < size):\n",
    "                if(len(str(result_partial)) > 1):\n",
    "                    arr = self.conv_arr(result_partial)\n",
    "                    final_result.append(arr[1])\n",
    "                    count = arr[0]\n",
    "                    counter += 1\n",
    "                    #print(final_result)\n",
    "                else:\n",
    "                    final_result.append(result_partial)\n",
    "                    count = 0\n",
    "                    counter += 1\n",
    "                    #print(final_result)\n",
    "            else:\n",
    "                if(len(str(result_partial)) > 1):\n",
    "                    arr = self.conv_arr(result_partial)\n",
    "                    final_result.append(arr[1])\n",
    "                    final_result.append(arr[0])\n",
    "                    #print(final_result)\n",
    "                else:\n",
    "                    final_result.append(result_partial)\n",
    "                    #print(final_result)\n",
    "\n",
    "            nodeA = nodeA.next_node\n",
    "            nodeB = nodeB.next_node\n",
    "            nodeC = nodeC.next_node\n",
    "\n",
    "        node_list = [Node(x) for x in final_result]\n",
    "        for x in range(1, len(node_list)):\n",
    "            node_list[x-1].set_next_node(node_list[x])\n",
    "        \n",
    "        final_list = Singly_linked_list(node_list[0])\n",
    "        final_list.reverse_list()\n",
    "        #final_list.list_traversed()\n"
   ]
  },
  {
   "cell_type": "code",
   "execution_count": 191,
   "id": "b34acc15",
   "metadata": {},
   "outputs": [],
   "source": [
    "l = LinkedSum()\n",
    "arr = [934,279,359]\n",
    "l.sum_elements(arr)\n"
   ]
  },
  {
   "cell_type": "code",
   "execution_count": 192,
   "id": "f4bc5121",
   "metadata": {},
   "outputs": [
    {
     "name": "stdout",
     "output_type": "stream",
     "text": [
      "376947767958667441315\n",
      "Function prove_sum(1,) {}, 0.00004 seconds\n",
      "Function prove_sum(6,) {}, 0.00004 seconds\n",
      "Function prove_sum(11,) {}, 0.00006 seconds\n",
      "Function prove_sum(16,) {}, 0.00007 seconds\n",
      "Function prove_sum(21,) {}, 0.00009 seconds\n",
      "Function prove_sum(26,) {}, 0.00010 seconds\n",
      "Function prove_sum(31,) {}, 0.00011 seconds\n",
      "Function prove_sum(36,) {}, 0.00013 seconds\n",
      "Function prove_sum(41,) {}, 0.00015 seconds\n",
      "Function prove_sum(46,) {}, 0.00016 seconds\n",
      "Function prove_sum(51,) {}, 0.00018 seconds\n",
      "Function prove_sum(56,) {}, 0.00019 seconds\n",
      "Function prove_sum(61,) {}, 0.00030 seconds\n",
      "Function prove_sum(66,) {}, 0.00023 seconds\n",
      "Function prove_sum(71,) {}, 0.00024 seconds\n",
      "Function prove_sum(76,) {}, 0.00025 seconds\n",
      "Function prove_sum(81,) {}, 0.00026 seconds\n",
      "Function prove_sum(86,) {}, 0.00028 seconds\n",
      "Function prove_sum(91,) {}, 0.00029 seconds\n",
      "Function prove_sum(96,) {}, 0.00033 seconds\n",
      "Function prove_sum(101,) {}, 0.00035 seconds\n",
      "Function prove_sum(106,) {}, 0.00037 seconds\n",
      "Function prove_sum(111,) {}, 0.00039 seconds\n",
      "Function prove_sum(116,) {}, 0.00045 seconds\n"
     ]
    }
   ],
   "source": [
    "import random\n",
    "#print(len(str(random.randint(10**99, 10**100))))\n",
    "print(random.randint(10**20, 10**21))\n",
    "\n",
    "@timer\n",
    "def prove_sum(x1):\n",
    "    l = LinkedSum()\n",
    "    arr = []\n",
    "    arr.append(random.randint(10**(x1-1), 10**(x1)))\n",
    "    arr.append(random.randint(10**(x1-1), 10**(x1)))\n",
    "    arr.append(random.randint(10**(x1-1), 10**(x1)))\n",
    "    l.sum_elements(arr)\n",
    "\n",
    "for x in range(1, 120, 5):\n",
    "    prove_sum(x)\n"
   ]
  }
 ],
 "metadata": {
  "kernelspec": {
   "display_name": "Python 3.9.13 64-bit (microsoft store)",
   "language": "python",
   "name": "python3"
  },
  "language_info": {
   "codemirror_mode": {
    "name": "ipython",
    "version": 3
   },
   "file_extension": ".py",
   "mimetype": "text/x-python",
   "name": "python",
   "nbconvert_exporter": "python",
   "pygments_lexer": "ipython3",
   "version": "3.9.13"
  },
  "vscode": {
   "interpreter": {
    "hash": "837127ec35c91e86170fdd1e56dc7f7c1e274626e9c541191aa390ab4e003e34"
   }
  }
 },
 "nbformat": 4,
 "nbformat_minor": 5
}
