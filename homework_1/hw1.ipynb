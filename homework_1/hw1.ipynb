{
 "cells": [
  {
   "cell_type": "markdown",
   "id": "012eda26",
   "metadata": {},
   "source": [
    "# Homework 1"
   ]
  },
  {
   "cell_type": "markdown",
   "id": "6d677bee",
   "metadata": {},
   "source": [
    "### 1. Assume we implemented an algorithm that has complexity approximately $n log(n)$. How much faster is this implementation compared to one of complexity $n^2$?"
   ]
  },
  {
   "cell_type": "markdown",
   "id": "d5ba26ec",
   "metadata": {},
   "source": [
    "So as we know at the moment that we run de code with an algorithm $nlog(n)$ the first iteration like 1 to 10 will be kind of the same to the $n^2$ algorithm, but if we use numbers like 1 to 1000 the execution time will be enormously different because the operation has to make more iterations making the system more slow\n",
    "Also if we want to know the execution time we can use the function $nlog(n)$, let's asume that $n = 1000$. \n",
    "$1000 \\cdot log(1000) = 3000$, now if we use the $n^2$ algorithm we will see the change\n",
    "$1000^2 = 1000000$, as we expected $3000$ and $1000000$ are enormously different and with this we know that the $nlog(n)$ its a better algorithm if we want to implement in our systems"
   ]
  },
  {
   "cell_type": "code",
   "execution_count": 2,
   "id": "f8a7fca6",
   "metadata": {},
   "outputs": [],
   "source": [
    "import pandas as pd\n",
    "import numpy as np\n",
    "import matplotlib.pyplot as plt\n",
    "\n",
    "r = pd.DataFrame()\n",
    "r[\"n\"] = np.arange(1,100,10)\n",
    "r[\"n1\"] = np.arange(1,100,10) #Creating ranges"
   ]
  },
  {
   "cell_type": "code",
   "execution_count": 3,
   "id": "4ab461c0",
   "metadata": {},
   "outputs": [],
   "source": [
    "r['log(n)'] = np.log2(r['n'])\n",
    "r['n^2'] = np.power(r['n'],2) #Creating the function to show"
   ]
  },
  {
   "cell_type": "code",
   "execution_count": 4,
   "id": "ff8087b2",
   "metadata": {},
   "outputs": [
    {
     "data": {
      "image/png": "[encoded data removed]",
      "text/plain": [
       "<Figure size 864x432 with 1 Axes>"
      ]
     },
     "metadata": {
      "needs_background": "light"
     },
     "output_type": "display_data"
    }
   ],
   "source": [
    "r.plot(x='n1', logy=True, lw=2, figsize=(12,6))\n",
    "plt.xlabel('n') #Plotting the figure\n",
    "plt.grid()"
   ]
  },
  {
   "cell_type": "markdown",
   "id": "bc2655ce",
   "metadata": {},
   "source": [
    "### 2. The runtime of an algorithm is captured in the following table:\n",
    "\n",
    "As precissely as possible, estimate the function that describes the growth of the runtime \n",
    "\n",
    "|$n$  | runtime -- $T(n)$|\n",
    "|---- | ----- |\n",
    "|1000|0.0|\n",
    "|2000|0.02|\n",
    "|4000|0.2|\n",
    "|8000|0.6|\n",
    "|16000|2.6|\n",
    "|32000|10.4|\n",
    "|64000|41.6|"
   ]
  },
  {
   "cell_type": "code",
   "execution_count": 71,
   "id": "d826d0a3",
   "metadata": {},
   "outputs": [
    {
     "name": "stdout",
     "output_type": "stream",
     "text": [
      "[1000, 2000, 4000, 8000, 16000, 32000, 64000] [0.02, 0.04, 0.08, 0.16, 0.32, 0.64, 1.28]\n",
      "-----------\n",
      "[1000, 2000, 4000, 8000, 16000, 32000, 64000] [0.0, 0.002, 0.2, 0.6, 2.6, 10.4, 41.6]\n"
     ]
    },
    {
     "data": {
      "image/png": "[encoded data removed]",
      "text/plain": [
       "<Figure size 432x288 with 1 Axes>"
      ]
     },
     "metadata": {
      "needs_background": "light"
     },
     "output_type": "display_data"
    }
   ],
   "source": [
    "import pandas as pd\n",
    "import numpy as np\n",
    "import matplotlib.pyplot as plt\n",
    "import math\n",
    "\n",
    "n = 500\n",
    "arr = []\n",
    "arr2 = []\n",
    "\n",
    "n2 = [1000,2000,4000,8000,16000,32000,64000]\n",
    "t_n2 = [0.0,0.002,0.2,0.6,2.6,10.4,41.6]\n",
    "\n",
    "for i in range(1,8,1):\n",
    "    n = n * 2\n",
    "    arr.append(n)  # Creating the n variables and storing them in arrays\n",
    "    t_n = n*10000  # Fuction that describes the growth of the runtime\n",
    "    arr2.append(t_n)\n",
    "\n",
    "\n",
    "#plt.plot(arr, arr2)\n",
    "print(arr, arr2)\n",
    "print(\"-----------\")\n",
    "print(n2, t_n2)\n",
    "plt.scatter(arr, arr2)\n",
    "plt.scatter(n2, t_n2)\n",
    "plt.grid()\n",
    "plt.show()"
   ]
  },
  {
   "cell_type": "markdown",
   "id": "189f5fea",
   "metadata": {},
   "source": [
    "The funtion has the form $T(n) = a \\cdot b^x$"
   ]
  },
  {
   "cell_type": "markdown",
   "id": "0e28457e",
   "metadata": {},
   "source": [
    "### 3. By estimating the number of operations as a function of $n$, estimate the complexity of the following function\n",
    "\n",
    "```\n",
    "def func1(n):\n",
    "    A = range(0,n)\n",
    "    sum = 0\n",
    "    i = 0\n",
    "    for x in A[i:]:\n",
    "        i += 1\n",
    "        for j in range(i, len(A)):\n",
    "            y = A[j]\n",
    "            k = j\n",
    "            while k < len(A):\n",
    "                z = A[k]\n",
    "                k = 2*k\n",
    "                if x + y <= z:\n",
    "                    sum += 1\n",
    "    return sum\n",
    "```"
   ]
  },
  {
   "cell_type": "markdown",
   "id": "b57a1194",
   "metadata": {},
   "source": [
    "<img src=\"1.png\">"
   ]
  },
  {
   "cell_type": "markdown",
   "id": "60569048",
   "metadata": {},
   "source": [
    "### 4. From class, remember the code we use to get the sum of the first $n$ positive integers:\n",
    "\n",
    "```\n",
    "def sum1(n):\n",
    "    total = 0\n",
    "    for i in range(1, n+1):\n",
    "        total += i\n",
    "    return total\n",
    "```\n",
    "\n",
    "Now consider a different function that does the same thing.\n",
    "\n",
    "```\n",
    "def sum2(n): \n",
    "    total = n*(n+1)//2\n",
    "    return total\n",
    "```\n",
    "\n",
    "1. Run the two functions and make sure that they return the same outputs. Use $n = 5, 8, 103, 527$\n",
    "2. Use Python time library to estimate the runtime for inputs of $n = [1, 10, 10^2, 10^3, 10^4, 10^5, 10^6, 10^7, 10^8, 10^9]$\n",
    "3. Plot the runtime as a function of $n$ for both functions in the same figure. \n",
    "    - Use different line colors and markers to help distinguish between the two curves. \n",
    "4. Analytically estime the runtime functions for the functions `sum1` and `sum2`. Call them $T_1(n)$ and $T_2(n)$.\n",
    "    - Note that the times obtained in your computer will be different to the ones shown in class since the speed and memory of the computers used to run the code are likely different\n",
    "5. How long will it take to run the code for $n = 10^{100}$ using `sum1` and `sum2`? What are your main impressions about the difference?\n",
    "\n",
    "**Hint:** Use and modify the code from the slides to get and plot the runtime\n"
   ]
  },
  {
   "cell_type": "markdown",
   "id": "66961dbb",
   "metadata": {},
   "source": [
    "1. Run the two functions and make sure that they return the same outputs. Use $n = 5, 8, 103, 527$"
   ]
  },
  {
   "cell_type": "code",
   "execution_count": 5,
   "id": "3bc1b2fd",
   "metadata": {},
   "outputs": [],
   "source": [
    "def sum1(n):\n",
    "    total = 0\n",
    "    for i in range(1, n+1):\n",
    "        total += i\n",
    "    return total\n",
    "\n",
    "def sum2(n): \n",
    "    total = n*(n+1)//2\n",
    "    return total\n",
    "\n",
    "n = [5, 8, 103, 527]"
   ]
  },
  {
   "cell_type": "code",
   "execution_count": 6,
   "id": "6ae1a284",
   "metadata": {},
   "outputs": [
    {
     "name": "stdout",
     "output_type": "stream",
     "text": [
      "Function sum1 =  15\n",
      "Function sum2 =  15\n",
      "Function sum1 =  36\n",
      "Function sum2 =  36\n",
      "Function sum1 =  5356\n",
      "Function sum2 =  5356\n",
      "Function sum1 =  139128\n",
      "Function sum2 =  139128\n"
     ]
    }
   ],
   "source": [
    "for i in n:\n",
    "    print(\"Function sum1 = \", sum1(i))\n",
    "    print(\"Function sum2 = \", sum2(i))"
   ]
  },
  {
   "cell_type": "markdown",
   "id": "0720ccc0",
   "metadata": {},
   "source": [
    "2. Use Python time library to estimate the runtime for inputs of $n = [1, 10, 10^2, 10^3, 10^4, 10^5, 10^6, 10^7, 10^8, 10^9]$"
   ]
  },
  {
   "cell_type": "code",
   "execution_count": 104,
   "id": "70095dad",
   "metadata": {},
   "outputs": [],
   "source": [
    "from functools import wraps\n",
    "import time\n",
    "\n",
    "def timer(func):\n",
    "    @wraps(func)\n",
    "    def timer_wrapper(*args, **kwargs):\n",
    "        start = time.perf_counter() ## time.perf_counter() gives the time in seconds\n",
    "        result = func(*args, **kwargs)\n",
    "        end = time.perf_counter()\n",
    "        total_time = end - start\n",
    "        print(f'Function {func.__name__}{args} {kwargs}, {total_time:.5f} seconds') ## Print the function and the time that it takes\n",
    "        return result, total_time\n",
    "    return timer_wrapper\n",
    "\n",
    "@timer\n",
    "def sum1(n):\n",
    "    total = 0\n",
    "    for i in range(1, n+1):\n",
    "        total += i\n",
    "    return total\n",
    "\n",
    "@timer\n",
    "def sum2(n): \n",
    "    total = n*(n+1)//2\n",
    "    return total"
   ]
  },
  {
   "cell_type": "code",
   "execution_count": 105,
   "id": "8685d3d4",
   "metadata": {},
   "outputs": [
    {
     "name": "stdout",
     "output_type": "stream",
     "text": [
      "Function sum1(1,) {}, 0.00000 seconds\n",
      "Function sum2(1,) {}, 0.00000 seconds\n",
      "Function sum1(10,) {}, 0.00000 seconds\n",
      "Function sum2(10,) {}, 0.00000 seconds\n",
      "Function sum1(100,) {}, 0.00001 seconds\n",
      "Function sum2(100,) {}, 0.00000 seconds\n",
      "Function sum1(1000,) {}, 0.00005 seconds\n",
      "Function sum2(1000,) {}, 0.00000 seconds\n",
      "Function sum1(10000,) {}, 0.00044 seconds\n",
      "Function sum2(10000,) {}, 0.00000 seconds\n",
      "Function sum1(100000,) {}, 0.00455 seconds\n",
      "Function sum2(100000,) {}, 0.00000 seconds\n",
      "Function sum1(1000000,) {}, 0.04646 seconds\n",
      "Function sum2(1000000,) {}, 0.00000 seconds\n",
      "Function sum1(10000000,) {}, 0.44771 seconds\n",
      "Function sum2(10000000,) {}, 0.00000 seconds\n",
      "Function sum1(100000000,) {}, 4.51412 seconds\n",
      "Function sum2(100000000,) {}, 0.00000 seconds\n",
      "Function sum1(1000000000,) {}, 43.90701 seconds\n",
      "Function sum2(1000000000,) {}, 0.00000 seconds\n",
      "array1 =  [(1, 2.7999994927085936e-06), (55, 1.7999991541728377e-06), (5050, 5.500000042957254e-06), (500500, 4.529999932856299e-05), (50005000, 0.0004447999999683816), (5000050000, 0.004551299998638569), (500000500000, 0.046464999999443535), (50000005000000, 0.4477145999990171), (5000000050000000, 4.51411680000092), (500000000500000000, 43.90700860000106)]\n",
      "array2 =  [(1, 9.999985195463523e-07), (55, 5.000001692678779e-07), (5050, 6.999998731771484e-07), (500500, 5.999991117278114e-07), (50005000, 3.9999940781854093e-07), (5000050000, 1.5000005078036338e-06), (500000500000, 3.2999996619764715e-06), (50000005000000, 2.099999619531445e-06), (5000000050000000, 3.899998773704283e-06), (500000000500000000, 2.499999027349986e-06)]\n",
      "tiempo total 1 =  [2.7999994927085936e-06, 1.7999991541728377e-06, 5.500000042957254e-06, 4.529999932856299e-05, 0.0004447999999683816, 0.004551299998638569, 0.046464999999443535, 0.4477145999990171, 4.51411680000092, 43.90700860000106]\n",
      "tiempo total 2 =  [9.999985195463523e-07, 5.000001692678779e-07, 6.999998731771484e-07, 5.999991117278114e-07, 3.9999940781854093e-07, 1.5000005078036338e-06, 3.2999996619764715e-06, 2.099999619531445e-06, 3.899998773704283e-06, 2.499999027349986e-06]\n"
     ]
    }
   ],
   "source": [
    "import matplotlib.pyplot as plt\n",
    "\n",
    "n1 = [1, 10, 100, 1000, 10000, 100000, 1000000, 10000000, 100000000, 1000000000]\n",
    "array1 = []   #Arrays that we use to store the vaules that return the functions sum1 and sum2 and also the time it took each one\n",
    "array2 = []   \n",
    "time_sum1 = [] #Arrays for store the times\n",
    "time_sum2 = []\n",
    "for j in n1:\n",
    "    array1.append(sum1(j))\n",
    "    array2.append(sum2(j))\n",
    "print(\"array1 = \", array1)\n",
    "print(\"array2 = \", array2)\n",
    "\n",
    "for k in array1:\n",
    "    time_sum1.append(k[1])\n",
    "                            #Here we process the data and send to the arrays time_sum1 and time_sum2 to store only the times\n",
    "for o in array2:\n",
    "    time_sum2.append(o[1])\n",
    "\n",
    "print(\"tiempo total 1 = \", time_sum1)\n",
    "print(\"tiempo total 2 = \", time_sum2)"
   ]
  },
  {
   "cell_type": "markdown",
   "id": "f59db09b",
   "metadata": {},
   "source": [
    "3. Plot the runtime as a function of $n$ for both functions in the same figure. \n",
    "    - Use different line colors and markers to help distinguish between the two curves. "
   ]
  },
  {
   "cell_type": "code",
   "execution_count": 74,
   "id": "d34fce08",
   "metadata": {},
   "outputs": [
    {
     "data": {
      "image/png": "[encoded data removed]",
      "text/plain": [
       "<Figure size 432x288 with 1 Axes>"
      ]
     },
     "metadata": {
      "needs_background": "light"
     },
     "output_type": "display_data"
    }
   ],
   "source": [
    "plt.plot(n1, time_sum1)\n",
    "plt.plot(n1, time_sum2)\n",
    "plt.xlabel(\"n1\")\n",
    "plt.ylabel(\"tiempo\")\n",
    "plt.grid()\n",
    "plt.show()"
   ]
  },
  {
   "cell_type": "markdown",
   "id": "a0982545",
   "metadata": {},
   "source": [
    "4. Analytically estime the runtime functions for the functions `sum1` and `sum2`. Call them $T_1(n)$ and $T_2(n)$.\n",
    "    - Note that the times obtained in your computer will be different to the ones shown in class since the speed and memory of the computers used to run the code are likely different"
   ]
  },
  {
   "cell_type": "markdown",
   "id": "9b7f6ae9",
   "metadata": {},
   "source": [
    "The time has been changed to microseconds to make it much more readable.\n",
    "\n",
    "Using the lineal equation formula $T(n) = a * n + b$ we obtain the following equation\n",
    "\n",
    "$T_1(n) = 0.0441 \\cdot n$\n",
    "\n",
    "$T_2(n) = c$"
   ]
  },
  {
   "cell_type": "markdown",
   "id": "c0d95c45",
   "metadata": {},
   "source": [
    "5. How long will it take to run the code for $n = 10^{100}$ using `sum1` and `sum2`? What are your main impressions about the difference?\n",
    "\n",
    "**Hint:** Use and modify the code from the slides to get and plot the runtime"
   ]
  },
  {
   "cell_type": "code",
   "execution_count": 101,
   "id": "9c716e74",
   "metadata": {},
   "outputs": [
    {
     "name": "stdout",
     "output_type": "stream",
     "text": [
      "Seconds that could take using sum1:  4.4100000000000005e+92\n"
     ]
    }
   ],
   "source": [
    "time_t1 = []\n",
    "time_t2 = []\n",
    "for i in range(0,110,10):\n",
    "    result = 0.0441*(10**i)\n",
    "    time_t1.append(result)\n",
    "\n",
    "\n",
    "print(\"Seconds that could take using sum1: \",time_t1[10]/1000000)\n"
   ]
  },
  {
   "cell_type": "markdown",
   "id": "75ed4fd5",
   "metadata": {},
   "source": [
    "In the case of ``sum2`` the value is going to be constant, so the algorithm could process the value at an n time(depends on the computer)"
   ]
  },
  {
   "cell_type": "markdown",
   "id": "0b68cc5a",
   "metadata": {},
   "source": [
    "### 5. Prove that the running time of an algorithm is $\\Theta(g(n))$ if and only if its worst-case running time is $O(g(n))$ and its best-case running time is $\\Omega(g(n))$"
   ]
  },
  {
   "cell_type": "markdown",
   "id": "82ab2822",
   "metadata": {},
   "source": [
    "<img src=\"2.png\">"
   ]
  },
  {
   "cell_type": "markdown",
   "id": "cbe48a31",
   "metadata": {},
   "source": [
    "### 6.  Sort the following functions in decreasing order of asymptotic complexity ($O(f(n))$):\n",
    "\n",
    "- $f_1(n) = \\sqrt{n}$\n",
    "- $f_2(n) = n^3$\n",
    "- $f_3(n) = {n\\choose 4}$\n",
    "- $f_4(n) = \\sum_{i=2}^n (i-1)$"
   ]
  },
  {
   "cell_type": "markdown",
   "id": "6b312b7f",
   "metadata": {},
   "source": [
    "1st = $f_2(n) = n^3$\n",
    "\n",
    "2nd = $f_4(n) = \\sum_{i=2}^n (i-1)$\n",
    "\n",
    "3th = $f_3(n) = {n\\choose 4}$\n",
    "\n",
    "4th = $f_1(n) = \\sqrt{n}$"
   ]
  },
  {
   "cell_type": "markdown",
   "id": "7e6a81f1",
   "metadata": {},
   "source": [
    "### 7. Implement the methods of the class `Array` that deal with deletion of elements. Consider the 3 cases we considered in class."
   ]
  },
  {
   "cell_type": "code",
   "execution_count": 10,
   "id": "21de5ea1",
   "metadata": {},
   "outputs": [],
   "source": [
    "import ctypes\n",
    "\n",
    "class Array(object):\n",
    "    \"\"\"\n",
    "    Implementation of the array data structure\n",
    "    \"\"\"\n",
    "    def __init__(self, n, values=None):\n",
    "        self.l = 0\n",
    "        self.n = n\n",
    "        self.array = self._create_array(self.n)\n",
    "        if values:\n",
    "            self.initialize_array(values)\n",
    "    \n",
    "    def _create_array(self, n):\n",
    "        \"\"\"\n",
    "        Creates a new array of capacity n\n",
    "        \"\"\"\n",
    "        return (n * ctypes.py_object)()\n",
    "\n",
    "    def initialize_array(self, values):\n",
    "        \"\"\"\n",
    "        Initialize array\n",
    "        \"\"\"\n",
    "        if self.n != len(values):\n",
    "            raise ValueError(\"element count different than capacity\")\n",
    "        for item in values:\n",
    "            self.array[self.l] = item\n",
    "            self.l += 1\n",
    "            \n",
    "    def list_array(self):\n",
    "        \"\"\"\n",
    "        List elements of the array\n",
    "        using list comprehension\n",
    "        \"\"\"\n",
    "        return \", \".join(str(x) if x is not None else '_' for x in self)\n",
    "\n",
    "    def list_array2(self):    \n",
    "        y = []    \n",
    "        for x in self:\n",
    "            if x is not None:\n",
    "                y.append(str(x))\n",
    "            else:\n",
    "                y.append('_')\n",
    "        return \", \".join(y)\n",
    "    \n",
    "    def __getitem__(self, item_index):\n",
    "        \"\"\"\n",
    "        Return element at item_index\n",
    "        \"\"\"\n",
    "        if (item_index < 0) or (item_index >= self.n):\n",
    "            raise IndexError('index out of range!')\n",
    "        try:\n",
    "            x = self.array[item_index]\n",
    "        except ValueError:\n",
    "            x = None\n",
    "        return x\n",
    "    \n",
    "    def __setitem__(self, item_index, item):\n",
    "        \"\"\"\n",
    "        Set element at item_index\n",
    "        \"\"\"\n",
    "        if (item_index < 0) or (item_index >= self.n):\n",
    "            raise IndexError('index out of range!')\n",
    "        self.array[item_index] = item\n",
    "    \n",
    "    def insert_to_tail(self, item):\n",
    "        \"\"\"\n",
    "        Add new item to the tail of the array\n",
    "        \"\"\"\n",
    "        if self.l == self.n:\n",
    "            raise ValueError(\"no more capacity\")\n",
    "        self.array[self.l] = item\n",
    "        self.l += 1\n",
    "\n",
    "    def insert_to_head(self, item):\n",
    "        \"\"\"\n",
    "        Add new item to the beginning of the array\n",
    "        \"\"\"\n",
    "        if self.l == self.n:\n",
    "            raise ValueError(\"no more capacity\")\n",
    "        i = self.l\n",
    "        while (i > 0):\n",
    "            self.array[i] = self.array[i-1]\n",
    "            i -= 1\n",
    "        self.array[0] = item\n",
    "        self.l += 1\n",
    "    \n",
    "    def insert(self, index, element):\n",
    "        \"\"\"\n",
    "        implementation of insert\n",
    "        \"\"\"\n",
    "        if self.l == self.n:\n",
    "            raise ValueError(\"no more capacity\")\n",
    "        if (index < 0) or (index > self.l):\n",
    "            raise IndexError('index out of range!')\n",
    "        x = self.l\n",
    "        while x > index:\n",
    "            self.array[x] = self.array[x-1]\n",
    "            x -= 1\n",
    "        self.array[index] = element\n",
    "        self.l += 1\n",
    "\n",
    "    def delete(self, index):\n",
    "        \"\"\"\n",
    "        implementation of delete\n",
    "        \"\"\"\n",
    "        if index >= self.n:\n",
    "            raise ValueError(\"Not in array\")\n",
    "\n",
    "        x = self.n - 1\n",
    "        while index < x:\n",
    "            self.array[index] = self.array[index+1] #Find the requested value, delete it, and from that position move all elements 1 position back\n",
    "            index += 1\n",
    "        \n",
    "        self.array[x] = \"_\"\n",
    "        self.l -= 1 \n",
    "\n",
    "    def delete_head(self):\n",
    "        \"\"\"\n",
    "        implementation of delete head\n",
    "        \"\"\"\n",
    "        x = self.n - 1\n",
    "        i = 0\n",
    "        while i < x:\n",
    "            self.array[i] = self.array[i+1] #Find the first value in the array and move all elements back 1 position\n",
    "            i += 1\n",
    "        self.array[x] = \"_\"\n",
    "        self.l -= 1\n",
    "\n",
    "    def delete_tail(self):\n",
    "        \"\"\"\n",
    "        implementation of delete tail\n",
    "        \"\"\"\n",
    "        self.array[self.l-1] = \"_\" #Search for the last value in the array\n",
    "        self.l -= 1\n"
   ]
  },
  {
   "cell_type": "code",
   "execution_count": 11,
   "id": "19aa170d",
   "metadata": {},
   "outputs": [
    {
     "name": "stdout",
     "output_type": "stream",
     "text": [
      "34, 21, 67, 89, 45, 17, 52, 95\n"
     ]
    }
   ],
   "source": [
    "x = Array(8, [34, 21, 67, 89, 45, 17, 52, 95])\n",
    "print(x.list_array())"
   ]
  },
  {
   "cell_type": "code",
   "execution_count": 12,
   "id": "0daeb75b",
   "metadata": {},
   "outputs": [
    {
     "name": "stdout",
     "output_type": "stream",
     "text": [
      "34, 21, 89, 45, 17, 52, 95, _\n"
     ]
    }
   ],
   "source": [
    "x.delete(2)\n",
    "print(x.list_array())"
   ]
  },
  {
   "cell_type": "code",
   "execution_count": 13,
   "id": "d026849b",
   "metadata": {},
   "outputs": [
    {
     "name": "stdout",
     "output_type": "stream",
     "text": [
      "21, 89, 45, 17, 52, 95, _, _\n"
     ]
    }
   ],
   "source": [
    "x.delete_head()\n",
    "print(x.list_array())"
   ]
  },
  {
   "cell_type": "code",
   "execution_count": 14,
   "id": "b95325fd",
   "metadata": {},
   "outputs": [
    {
     "name": "stdout",
     "output_type": "stream",
     "text": [
      "21, 89, 45, 17, 52, _, _, _\n"
     ]
    }
   ],
   "source": [
    "x.delete_tail()\n",
    "print(x.list_array())"
   ]
  },
  {
   "cell_type": "code",
   "execution_count": null,
   "id": "1cf8c65e",
   "metadata": {},
   "outputs": [],
   "source": []
  }
 ],
 "metadata": {
  "kernelspec": {
   "display_name": "Python 3 (ipykernel)",
   "language": "python",
   "name": "python3"
  },
  "language_info": {
   "codemirror_mode": {
    "name": "ipython",
    "version": 3
   },
   "file_extension": ".py",
   "mimetype": "text/x-python",
   "name": "python",
   "nbconvert_exporter": "python",
   "pygments_lexer": "ipython3",
   "version": "3.9.12"
  }
 },
 "nbformat": 4,
 "nbformat_minor": 5
}
